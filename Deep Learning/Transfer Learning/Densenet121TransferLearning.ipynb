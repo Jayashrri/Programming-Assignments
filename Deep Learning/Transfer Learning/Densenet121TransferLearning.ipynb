{
 "cells": [
  {
   "cell_type": "code",
   "execution_count": 1,
   "metadata": {},
   "outputs": [
    {
     "name": "stderr",
     "output_type": "stream",
     "text": [
      "Using TensorFlow backend.\n"
     ]
    }
   ],
   "source": [
    "import cv2\n",
    "import os\n",
    "import tensorflow as tf\n",
    "import matplotlib.pyplot as plt\n",
    "from glob import glob\n",
    "import numpy as np\n",
    "import tensorflow as tf\n",
    "from tensorflow.keras.layers import Input, Conv2D, BatchNormalization, Dense\n",
    "from tensorflow.keras.layers import AvgPool2D, GlobalAveragePooling2D, MaxPool2D\n",
    "from tensorflow.keras.models import Model\n",
    "from tensorflow.keras.layers import ReLU, concatenate\n",
    "import tensorflow.keras.backend as K\n",
    "from tensorflow.keras.applications import DenseNet121\n",
    "from keras.preprocessing.image import ImageDataGenerator\n",
    "%matplotlib inline "
   ]
  },
  {
   "cell_type": "code",
   "execution_count": 2,
   "metadata": {},
   "outputs": [],
   "source": [
    "train_datagenerator = ImageDataGenerator(rescale = 1.0/255,\n",
    "                                        shear_range = 0.2,\n",
    "                                        zoom_range = 0.5,\n",
    "                                        horizontal_flip = True,\n",
    "                                        rotation_range=10,\n",
    "                                        width_shift_range=0.2,\n",
    "                                        brightness_range=[0.2,1.2]\n",
    "                                        )\n",
    "test_datagenerator = ImageDataGenerator(rescale = 1.0/255)"
   ]
  },
  {
   "cell_type": "code",
   "execution_count": 3,
   "metadata": {},
   "outputs": [
    {
     "name": "stdout",
     "output_type": "stream",
     "text": [
      "Found 1951 images belonging to 4 classes.\n",
      "Found 253 images belonging to 4 classes.\n"
     ]
    }
   ],
   "source": [
    "train_data = train_datagenerator.flow_from_directory('./Cotton Disease/train',\n",
    "                                                    target_size = (224,224),\n",
    "                                                    batch_size = 64,\n",
    "                                                    class_mode = 'categorical')\n",
    "test_data = test_datagenerator.flow_from_directory('./Cotton Disease/val',\n",
    "                                                  target_size = (224,224),\n",
    "                                                    batch_size = 64,\n",
    "                                                    class_mode = 'categorical')"
   ]
  },
  {
   "cell_type": "code",
   "execution_count": 4,
   "metadata": {},
   "outputs": [],
   "source": [
    "dense = DenseNet121(\n",
    "                include_top=False,\n",
    "                weights=\"imagenet\",\n",
    "                input_shape=(224,224, 3),\n",
    "            )"
   ]
  },
  {
   "cell_type": "code",
   "execution_count": 5,
   "metadata": {},
   "outputs": [
    {
     "name": "stdout",
     "output_type": "stream",
     "text": [
      "Model: \"model\"\n",
      "_________________________________________________________________\n",
      "Layer (type)                 Output Shape              Param #   \n",
      "=================================================================\n",
      "input_2 (InputLayer)         [(None, 224, 224, 3)]     0         \n",
      "_________________________________________________________________\n",
      "densenet121 (Model)          (None, 7, 7, 1024)        7037504   \n",
      "_________________________________________________________________\n",
      "global_average_pooling2d (Gl (None, 1024)              0         \n",
      "_________________________________________________________________\n",
      "dropout (Dropout)            (None, 1024)              0         \n",
      "_________________________________________________________________\n",
      "dense (Dense)                (None, 4)                 4100      \n",
      "=================================================================\n",
      "Total params: 7,041,604\n",
      "Trainable params: 6,957,956\n",
      "Non-trainable params: 83,648\n",
      "_________________________________________________________________\n"
     ]
    }
   ],
   "source": [
    "inputs = tf.keras.Input(shape=(224, 224, 3))\n",
    "\n",
    "x = dense(inputs, training=True)\n",
    "x = tf.keras.layers.GlobalAveragePooling2D()(x)\n",
    "x = tf.keras.layers.Dropout(0.2)(x)\n",
    "\n",
    "outputs = tf.keras.layers.Dense(4, activation='softmax')(x)\n",
    "model = tf.keras.Model(inputs, outputs)\n",
    "model.summary()"
   ]
  },
  {
   "cell_type": "code",
   "execution_count": 6,
   "metadata": {},
   "outputs": [
    {
     "name": "stdout",
     "output_type": "stream",
     "text": [
      "WARNING:tensorflow:sample_weight modes were coerced from\n",
      "  ...\n",
      "    to  \n",
      "  ['...']\n",
      "WARNING:tensorflow:sample_weight modes were coerced from\n",
      "  ...\n",
      "    to  \n",
      "  ['...']\n",
      "Train for 31 steps, validate for 4 steps\n",
      "Epoch 1/10\n",
      "31/31 [==============================] - 482s 16s/step - loss: 1.3537 - categorical_accuracy: 0.3203 - val_loss: 1.2189 - val_categorical_accuracy: 0.5375\n",
      "Epoch 2/10\n",
      "31/31 [==============================] - 462s 15s/step - loss: 1.1848 - categorical_accuracy: 0.5812 - val_loss: 1.0273 - val_categorical_accuracy: 0.8458\n",
      "Epoch 3/10\n",
      "31/31 [==============================] - 463s 15s/step - loss: 1.0285 - categorical_accuracy: 0.7945 - val_loss: 0.9280 - val_categorical_accuracy: 0.8775\n",
      "Epoch 4/10\n",
      "31/31 [==============================] - 455s 15s/step - loss: 0.9270 - categorical_accuracy: 0.8862 - val_loss: 0.8785 - val_categorical_accuracy: 0.9012\n",
      "Epoch 5/10\n",
      "31/31 [==============================] - 460s 15s/step - loss: 0.8781 - categorical_accuracy: 0.9124 - val_loss: 0.8487 - val_categorical_accuracy: 0.9368\n",
      "Epoch 6/10\n",
      "31/31 [==============================] - 460s 15s/step - loss: 0.8431 - categorical_accuracy: 0.9385 - val_loss: 0.8289 - val_categorical_accuracy: 0.9526\n",
      "Epoch 7/10\n",
      "31/31 [==============================] - 462s 15s/step - loss: 0.8181 - categorical_accuracy: 0.9600 - val_loss: 0.8182 - val_categorical_accuracy: 0.9526\n",
      "Epoch 8/10\n",
      "31/31 [==============================] - 478s 15s/step - loss: 0.8084 - categorical_accuracy: 0.9651 - val_loss: 0.8094 - val_categorical_accuracy: 0.9644\n",
      "Epoch 9/10\n",
      "31/31 [==============================] - 474s 15s/step - loss: 0.7983 - categorical_accuracy: 0.9677 - val_loss: 0.8034 - val_categorical_accuracy: 0.9644\n",
      "Epoch 10/10\n",
      "31/31 [==============================] - 470s 15s/step - loss: 0.7921 - categorical_accuracy: 0.9708 - val_loss: 0.7966 - val_categorical_accuracy: 0.9644\n"
     ]
    }
   ],
   "source": [
    "model.compile(optimizer=tf.keras.optimizers.Adam(1e-5),\n",
    "              loss=tf.keras.losses.CategoricalCrossentropy(from_logits=True),\n",
    "              metrics=[tf.keras.metrics.CategoricalAccuracy()])\n",
    "run = model.fit(x = train_data, validation_data = test_data, epochs = 10, verbose=1)"
   ]
  },
  {
   "cell_type": "code",
   "execution_count": 8,
   "metadata": {},
   "outputs": [
    {
     "data": {
      "image/png": "[encoded data removed]",
      "text/plain": [
       "<Figure size 432x288 with 1 Axes>"
      ]
     },
     "metadata": {
      "needs_background": "light"
     },
     "output_type": "display_data"
    },
    {
     "data": {
      "image/png": "[encoded data removed]",
      "text/plain": [
       "<Figure size 432x288 with 1 Axes>"
      ]
     },
     "metadata": {
      "needs_background": "light"
     },
     "output_type": "display_data"
    }
   ],
   "source": [
    "plt.plot(run.history['categorical_accuracy'])\n",
    "plt.plot(run.history['val_categorical_accuracy'])\n",
    "plt.title('Model accuracy')\n",
    "plt.ylabel('Accuracy')\n",
    "plt.xlabel('Epoch')\n",
    "plt.legend(['Train', 'Test'], loc='upper left')\n",
    "plt.show()\n",
    "\n",
    "plt.plot(run.history['loss'])\n",
    "plt.plot(run.history['val_loss'])\n",
    "plt.title('Model loss')\n",
    "plt.ylabel('Loss')\n",
    "plt.xlabel('Epoch')\n",
    "plt.legend(['Train', 'Test'], loc='upper left')\n",
    "plt.show()"
   ]
  },
  {
   "cell_type": "code",
   "execution_count": null,
   "metadata": {},
   "outputs": [],
   "source": []
  }
 ],
 "metadata": {
  "kernelspec": {
   "display_name": "Python 3",
   "language": "python",
   "name": "python3"
  },
  "language_info": {
   "codemirror_mode": {
    "name": "ipython",
    "version": 3
   },
   "file_extension": ".py",
   "mimetype": "text/x-python",
   "name": "python",
   "nbconvert_exporter": "python",
   "pygments_lexer": "ipython3",
   "version": "3.6.12"
  }
 },
 "nbformat": 4,
 "nbformat_minor": 4
}
